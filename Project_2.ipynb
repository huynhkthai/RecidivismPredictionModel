{
 "cells": [
  {
   "cell_type": "markdown",
   "metadata": {},
   "source": [
    "# Recidivism prediction model, optimized for fairness"
   ]
  },
  {
   "cell_type": "markdown",
   "metadata": {},
   "source": [
    "First, load the appropriate libraries for the study: numpy, pandas, matplotlib, sklearn, nltk, re, scipy, tensorflow and keras to name a few."
   ]
  },
  {
   "cell_type": "code",
   "execution_count": 2,
   "metadata": {},
   "outputs": [
    {
     "ename": "ModuleNotFoundError",
     "evalue": "No module named 'kerastuner'",
     "output_type": "error",
     "traceback": [
      "\u001b[0;31m---------------------------------------------------------------------------\u001b[0m",
      "\u001b[0;31mModuleNotFoundError\u001b[0m                       Traceback (most recent call last)",
      "\u001b[0;32m<ipython-input-2-de866291b972>\u001b[0m in \u001b[0;36m<module>\u001b[0;34m\u001b[0m\n\u001b[1;32m     17\u001b[0m \u001b[0;32mimport\u001b[0m \u001b[0msys\u001b[0m\u001b[0;34m\u001b[0m\u001b[0;34m\u001b[0m\u001b[0m\n\u001b[1;32m     18\u001b[0m \u001b[0;34m\u001b[0m\u001b[0m\n\u001b[0;32m---> 19\u001b[0;31m \u001b[0;32mimport\u001b[0m \u001b[0mkerastuner\u001b[0m\u001b[0;34m\u001b[0m\u001b[0;34m\u001b[0m\u001b[0m\n\u001b[0m\u001b[1;32m     20\u001b[0m \u001b[0;32mfrom\u001b[0m \u001b[0mkerastuner\u001b[0m \u001b[0;32mimport\u001b[0m \u001b[0mRandomSearch\u001b[0m\u001b[0;34m\u001b[0m\u001b[0;34m\u001b[0m\u001b[0m\n\u001b[1;32m     21\u001b[0m \u001b[0;32mimport\u001b[0m \u001b[0mtensorflow\u001b[0m \u001b[0;32mas\u001b[0m \u001b[0mtf\u001b[0m\u001b[0;34m\u001b[0m\u001b[0;34m\u001b[0m\u001b[0m\n",
      "\u001b[0;31mModuleNotFoundError\u001b[0m: No module named 'kerastuner'"
     ]
    }
   ],
   "source": [
    "#!{sys.executable} -m pip install keras\n",
    "#!{sys.executable} -m pip install -U keras-tuner\n",
    "import numpy as np\n",
    "import pandas as pd\n",
    "import matplotlib.pyplot as plt\n",
    "from datetime import date\n",
    "%matplotlib inline\n",
    "import re\n",
    "import nltk\n",
    "from nltk.corpus import stopwords\n",
    "from sklearn.feature_extraction.text import CountVectorizer\n",
    "\n",
    "from sklearn.preprocessing import MultiLabelBinarizer\n",
    "from scipy.stats import chi2_contingency, kruskal, f_oneway, normaltest, bartlett\n",
    "import plotly.express as px\n",
    "\n",
    "import sys\n",
    "\n",
    "import kerastuner\n",
    "from kerastuner import RandomSearch\n",
    "import tensorflow as tf\n",
    "from tensorflow import keras\n",
    "from keras import layers\n",
    "\n",
    "#Create seed to stablize variation in training and its evaluation\n",
    "from numpy.random import seed\n",
    "seed(1)\n",
    "tf.random.set_seed(2)\n",
    "\n",
    "#optional task, commented to save time from redoing\n",
    "nltk.download('stopwords')\n",
    "nltk.download('wordnet')\n"
   ]
  },
  {
   "cell_type": "markdown",
   "metadata": {},
   "source": [
    "Then, load the data, there are 2 dataset choices, this report is going to work on the dataset that involves defendants with risk of reoffending within 2 years."
   ]
  },
  {
   "cell_type": "code",
   "execution_count": null,
   "metadata": {},
   "outputs": [],
   "source": [
    "#DEFINE CONSTANTS and NAMES.\n",
    "# file1 = \"compas-scores-raw.csv\"\n",
    "file2 = \"compas-scores-two-years.csv\""
   ]
  },
  {
   "cell_type": "code",
   "execution_count": null,
   "metadata": {},
   "outputs": [],
   "source": [
    "def create_dataframe_from_file(filename):\n",
    "    '''\n",
    "        This function creates a shuffled dataframe from a given file.\n",
    "    '''\n",
    "    #create the dataframe.\n",
    "    df = pd.read_csv(filename)\n",
    "    #shuffle the dataframe.\n",
    "    df = df.sample(frac=1, random_state = 32)\n",
    "    return df"
   ]
  },
  {
   "cell_type": "markdown",
   "metadata": {},
   "source": [
    "Once dataset is loaded, make it a df and shuffle the set. Take a look at the first few rows to understand the columns. "
   ]
  },
  {
   "cell_type": "code",
   "execution_count": null,
   "metadata": {},
   "outputs": [],
   "source": [
    "#Create a complete dataframe with \n",
    "full_df = create_dataframe_from_file(file2)\n",
    "display(full_df.head())"
   ]
  },
  {
   "cell_type": "markdown",
   "metadata": {},
   "source": [
    "Then use domain knowledge to determine non useful features to drop and features that would be more useful once processed. For example, turning in and out jail or custody into durations. Then determine which length is longer and use that instead of both."
   ]
  },
  {
   "cell_type": "code",
   "execution_count": null,
   "metadata": {},
   "outputs": [],
   "source": [
    "#Feature engineering\n",
    "#Calculate duration between start and end date\n",
    "\n",
    "def dateDiff(s_date, e_date):\n",
    "    '''\n",
    "        This function creates the differences from the given 2 dates.\n",
    "    '''\n",
    "    sub_s_date = s_date.split(\"-\")\n",
    "    sub_e_date = e_date.split(\"-\")\n",
    "    s_date = date(int(sub_s_date[0]), int(sub_s_date[1]), int(sub_s_date[2].split(\" \")[0]))\n",
    "    e_date = date(int(sub_e_date[0]), int(sub_e_date[1]), int(sub_e_date[2].split(\" \")[0]))\n",
    "    delta = e_date - s_date\n",
    "    return delta.days \n",
    "\n",
    "def duration(id_c, s_date, e_date):\n",
    "    '''\n",
    "        This function creates the duration from the given 2 dates.\n",
    "    '''\n",
    "    sum_date = 0\n",
    "    a = 0\n",
    "    while a < full_df.shape[0]:\n",
    "        if ((str(s_date[a]) != \"nan\") or (str(s_date[a]) != \"nan\")):\n",
    "            sum_date += dateDiff(s_date[a], e_date[a])\n",
    "        a += 1\n",
    "    avg_date = sum_date /full_df.shape[0]\n",
    "\n",
    "    list_duration = []\n",
    "    i = 0\n",
    "    while i < full_df.shape[0]:\n",
    "        if ((str(s_date[i]) == \"nan\") or (str(s_date[i]) == \"nan\")):\n",
    "            list_duration.append([id_c[i], int(avg_date)])\n",
    "        else:\n",
    "            list_duration.append([id_c[i], dateDiff(s_date[i], e_date[i])])\n",
    "        i += 1\n",
    "    return list_duration\n",
    "\n",
    "def max_duration(id_c, jail_duration, custody_duration):\n",
    "    '''\n",
    "        This function output the max duration between 2 given durations.\n",
    "    '''\n",
    "    list_duration = []\n",
    "    a = 0\n",
    "    while a < full_df.shape[0]:\n",
    "        list_duration.append([id_c[a], max([jail_duration[a], custody_duration[a]])])\n",
    "        a += 1\n",
    "    return list_duration"
   ]
  },
  {
   "cell_type": "code",
   "execution_count": null,
   "metadata": {},
   "outputs": [],
   "source": [
    "cus_df = pd.DataFrame(duration(full_df['id'], full_df['in_custody'], full_df['out_custody']), columns = ['id', 'custody_duration'])\n",
    "display(cus_df.head())"
   ]
  },
  {
   "cell_type": "code",
   "execution_count": null,
   "metadata": {},
   "outputs": [],
   "source": [
    "jail_df = pd.DataFrame(duration(full_df['id'], full_df['c_jail_in'], full_df['c_jail_out']), columns = ['id', 'c_jail_duration'])\n",
    "display(jail_df.head())"
   ]
  },
  {
   "cell_type": "code",
   "execution_count": null,
   "metadata": {},
   "outputs": [],
   "source": [
    "full_df['custody_duration'] = full_df.id.map(cus_df.set_index('id')['custody_duration'])\n",
    "full_df['c_jail_duration'] = full_df.id.map(jail_df.set_index('id')['c_jail_duration'])\n",
    "display(full_df.head())"
   ]
  },
  {
   "cell_type": "code",
   "execution_count": null,
   "metadata": {},
   "outputs": [],
   "source": [
    "max_df = pd.DataFrame(max_duration(full_df['id'], full_df['c_jail_duration'], full_df['custody_duration']), columns = ['id', 'max_duration'])\n",
    "display(max_df.head())"
   ]
  },
  {
   "cell_type": "code",
   "execution_count": null,
   "metadata": {},
   "outputs": [],
   "source": [
    "full_df['max_duration'] = full_df.id.map(max_df.set_index('id')['max_duration'])\n",
    "display(full_df.head())"
   ]
  },
  {
   "cell_type": "markdown",
   "metadata": {},
   "source": [
    "Once this is done, drop all the columns that clearly aren’t useful and start the analysis on the numeric as well as the categorical."
   ]
  },
  {
   "cell_type": "code",
   "execution_count": null,
   "metadata": {},
   "outputs": [],
   "source": [
    "#Using domain knowledge to remove obviously not related features\n",
    "out_features = [\"id\", \"name\", \"first\", \"last\", \"age\", \"dob\", \"c_case_number\", \"decile_score\", \"decile_score.1\", \"priors_count\", \"priors_count.1\",\"score_text\", \"v_decile_score\", \"v_score_text\", \"violent_recid\",\n",
    "                \"compas_screening_date\", \"c_jail_in\", \"c_jail_out\", \"c_offense_date\", \"c_arrest_date\", \"screening_date\", \"v_screening_date\", \n",
    "                \"in_custody\", \"out_custody\",  \"vr_case_number\",   \"vr_charge_degree\", \"vr_offense_date\", \"vr_charge_desc\", \"r_case_number\",\n",
    "                \"r_charge_degree\", \"r_days_from_arrest\", \"r_offense_date\", \"r_charge_desc\", \"type_of_assessment\", \"v_type_of_assessment\",\n",
    "                \"r_jail_in\", \"r_jail_out\", \"days_b_screening_arrest\", \"c_days_from_compas\", \"event\", \"end\", 'custody_duration', 'c_jail_duration']\n",
    "\n",
    "full_df = full_df.drop(out_features, axis=1)"
   ]
  },
  {
   "cell_type": "markdown",
   "metadata": {},
   "source": [
    "Using .describe(), we have a good overview of the numerical data. We can quickly see the distribution. Use box plot to identify outliers to be removed. From this, we can also determine which columns are numerical features. Move on to choose which quantile as appropriate cuts of to outliers and then normalize data. Choose to include outliers, as sensibly, they are valid data. Then convert categorical features into one hot vectors."
   ]
  },
  {
   "cell_type": "code",
   "execution_count": null,
   "metadata": {},
   "outputs": [],
   "source": [
    "#data visualization for numerical features normalization\n",
    "full_df.describe()"
   ]
  },
  {
   "cell_type": "code",
   "execution_count": null,
   "metadata": {},
   "outputs": [],
   "source": [
    "NUMERIC_FEATURES = [\"juv_fel_count\", \"juv_misd_count\", \"juv_other_count\", \n",
    "                    \"is_violent_recid\", \"start\", \"max_duration\"]\n",
    "\n",
    "LABEL = \"two_year_recid\"\n",
    "\n",
    "for feature in NUMERIC_FEATURES:\n",
    "    box_by_label = px.box(full_df, x=LABEL, y=feature, title=feature)\n",
    "    box_by_label.show()"
   ]
  },
  {
   "cell_type": "code",
   "execution_count": null,
   "metadata": {},
   "outputs": [],
   "source": [
    "def rescale(orig_val, min, max):\n",
    "    '''\n",
    "    Rescales the value to the 0 to 1 range. Also handles outliers by replacing\n",
    "    with the max value.\n",
    "    '''\n",
    "    if orig_val > max:\n",
    "        orig_val = max\n",
    "    return (orig_val - min) / (max - min)\n",
    "\n",
    "# # This is a big transformation so make a new deep copy of the dataframe\n",
    "# df_scaled = full_df.copy(deep=True)\n",
    "\n",
    "# Min / max values determination\n",
    "# Max values chosen at .99 or .95 quantile appropriately to remove outliers\n",
    "MIN_FEL_COUNT= full_df[\"juv_fel_count\"].min()\n",
    "MAX_FEL_COUNT = full_df[\"juv_fel_count\"].quantile(0.99)\n",
    "MIN_MISD_COUNT = full_df[\"juv_misd_count\"].min()\n",
    "MAX_MISD_COUNT = full_df[\"juv_misd_count\"].quantile(0.95)\n",
    "MIN_OTHER_COUNT = full_df[\"juv_other_count\"].min()\n",
    "MAX_OTHER_COUNT = full_df[\"juv_other_count\"].quantile(0.95)\n",
    "MIN_VIO_RECID = full_df[\"is_violent_recid\"].min()\n",
    "MAX_VIO_RECID = full_df[\"is_violent_recid\"].quantile(0.95)\n",
    "MIN_START = full_df[\"start\"].min()\n",
    "MAX_START = full_df[\"start\"].quantile(0.95)\n",
    "MIN_DURATION = full_df[\"max_duration\"].min()\n",
    "MAX_DURATION = full_df[\"max_duration\"].quantile(0.95)\n",
    "\n",
    "# Convert column by column\n",
    "full_df[\"juv_fel_count\"] = full_df[\"juv_fel_count\"].apply(lambda x: rescale(x, MIN_FEL_COUNT, MAX_FEL_COUNT))\n",
    "full_df[\"juv_misd_count\"] = full_df[\"juv_misd_count\"].apply(lambda x: rescale(x, MIN_MISD_COUNT, MAX_MISD_COUNT))\n",
    "full_df[\"juv_other_count\"] = full_df[\"juv_other_count\"].apply(lambda x: rescale(x, MIN_OTHER_COUNT, MAX_OTHER_COUNT))\n",
    "full_df[\"is_violent_recid\"] = full_df[\"is_violent_recid\"].apply(lambda x: rescale(x, MIN_VIO_RECID, MAX_VIO_RECID))\n",
    "full_df[\"start\"] = full_df[\"start\"].apply(lambda x: rescale(x, MIN_START, MAX_START))\n",
    "full_df[\"max_duration\"] = full_df[\"max_duration\"].apply(lambda x: rescale(x, MIN_DURATION, MAX_DURATION))\n",
    "\n",
    "# Sanity check\n",
    "display(full_df.head())\n",
    "print(\"\\n\")\n",
    "display(full_df.describe())"
   ]
  },
  {
   "cell_type": "markdown",
   "metadata": {},
   "source": [
    "After investigation we can see that the Asian and the Native American population to be too small for effective training and would be hard to achieve fairness for these groups so we make a conscious choice to remove it altogether."
   ]
  },
  {
   "cell_type": "code",
   "execution_count": null,
   "metadata": {},
   "outputs": [],
   "source": [
    "#Drop any rows in 'race' column that has an 'Other' value because of its smaller counts.\n",
    "full_df = full_df[full_df['race'] != 'Asian']\n",
    "full_df = full_df[full_df['race'] != 'Native American']\n",
    "\n",
    "# split the df into two dataframe by Label\n",
    "full_df_is_recid = full_df.drop(\"two_year_recid\",axis=1)\n",
    "full_df_two_year_recid = full_df.drop(\"is_recid\",axis=1)"
   ]
  },
  {
   "cell_type": "code",
   "execution_count": null,
   "metadata": {},
   "outputs": [],
   "source": [
    "# Check the new dataframe of is_recid as Label\n",
    "display(full_df_is_recid.head())"
   ]
  },
  {
   "cell_type": "code",
   "execution_count": null,
   "metadata": {
    "scrolled": true
   },
   "outputs": [],
   "source": [
    "# Check the new dataframe of two_year_recid as Label\n",
    "# We will work with this Label since it yields better relationship\n",
    "display(full_df_two_year_recid.head())"
   ]
  },
  {
   "cell_type": "markdown",
   "metadata": {},
   "source": [
    "The most important feature is the c_charge_desc which describes the offense the defendants were charged with. Although this is very important data, it’s written in a non-process, non-machine friendly manner, in natural, appreciated English. Attempts to process this feature in CS manner using algorithms yields poor results giving move edge cases since there is no actual rule on which these sentences are structured. Manual work with elbow grease was applied here to turn not so useful feature into one."
   ]
  },
  {
   "cell_type": "code",
   "execution_count": null,
   "metadata": {},
   "outputs": [],
   "source": [
    "# Create a dictionary to convert all the charge description \n",
    "# Converting appreviated or unintelligible phrases to understandable ones\n",
    "# All drugs related offense are generalized to just \"Drug\" for better  grouping\n",
    "convert = {'Possession of Cocaine': 'Possession of Drug',\n",
    "'Battery': 'Battery',\n",
    "'Felony DUI (level 3)': 'Felony DUI (level 3)',\n",
    "'Criminal Mischief' : 'Criminal Mischief' ,\n",
    "'Possession Of Heroin' : 'Possession Of drug',\n",
    "'Felony Driving While Lic Suspd' : 'Felony Driving While License Suspended',\n",
    "'Driving While License Revoked' : 'Driving While License Revoked',\n",
    "'Grand Theft in the 3rd Degree' :'Grand Theft in the third Degree' ,\n",
    "'arrest case no charge' : 'arrest case no charge',\n",
    "'Possession Of Alprazolam' : 'Possession Of Drug',\n",
    "'Pos Cannabis W/Intent Sel/Del': 'Possession of Drug',\n",
    "'Resist/Obstruct W/O Violence' : 'Resist Officer Without Violence',\n",
    "'DUI Level 0.15 Or Minor In Veh' : 'DUI Level 0.15 Or Minor In Vehicle',\n",
    "'Aggravated Assault W/Dead Weap' : 'Aggravated Assault With Deadly Weapon',\n",
    "'Susp Drivers Lic 1st Offense' : 'Operating With Suspended Driving License first Offense',\n",
    "'Aggrav Battery w/Deadly Weapon' : 'Aggravated Assault With Deadly Weapon',\n",
    "'Felony Petit Theft' : 'Felony Petit Theft', \n",
    "'Tampering With Physical Evidence' : 'Tampering With Physical Evidence' ,\n",
    "'Burglary Structure Unoccup' : 'Burglary Unoccupied Dwelling',\n",
    "'Unlaw LicTag/Sticker Attach' : 'Unlawful Sticker Attachment',\n",
    "'Offer Agree Secure For Lewd Act' : 'Lewdness Violation',\n",
    "'Burglary Unoccupied Dwelling' : 'Burglary Unoccupied Dwelling',\n",
    "'Poss3,4 Methylenedioxymethcath' : 'Possession of drug',\n",
    "'Driving License Suspended' : 'Driving License Suspended',\n",
    "'Aggravated Assault w/Firearm' : 'Aggravated Assault With Deadly Weapon',\n",
    "'False Imprisonment' : 'Falsely Imprisonment',\n",
    "'Poss Of RX Without RX' : 'Possession of Controlled Substance Without Prescription',\n",
    "'Defrauding Innkeeper $300/More' : 'Defrauding Innkeeper',\n",
    "'Ride Tri-Rail Without Paying' : 'Ride Railroad Without Paying',\n",
    "'Possession Of Methamphetamine' : 'Possession Of Drug',\n",
    "'Petit Theft $100- $300' : 'Petit Theft $100- $300',\n",
    "'Aggravated Battery / Pregnant' : 'Aggravated Battery with Pregnant',\n",
    "'Leaving the Scene of Accident' : 'Leaving the Scene of Accident',\n",
    "'Aggravated Assault W/dead Weap' : 'Aggravated Assault With Deadly Weapon',\n",
    "'Resist Officer w/Violence' : 'Resist Officer With Violence',\n",
    "'Grand Theft (Motor Vehicle)' : 'Grand Theft (Motor Vehicle)',    \n",
    "'Stalking' : 'Stalking',                                          \n",
    "'Felony Battery (Dom Strang)' : 'Felony Battery',\n",
    "'Possess Cannabis/20 Grams Or Less': 'Possession of Drug',\n",
    "'Driving Under The Influence' : 'Driving Under The Influence',    \n",
    "'Carrying Concealed Firearm': 'Carrying Concealed Firearm',       \n",
    "'Battery on Law Enforc Officer' : 'Battery on Law Enforcement Officer',\n",
    "'Deliver Cannabis' : 'Delivery Drug',\n",
    "'Burglary Conveyance Occupied' : 'Burglary Conveyance Occupied',\n",
    "'Del Morphine at/near Park' : 'Delivery Drug',\n",
    "'Leave Acc/Attend Veh/More $50' :  'Leaving Accident and Attended Vehicle with More $50',\n",
    "'Poss Pyrrolidinovalerophenone' : 'Possession of Drug' ,\n",
    "'Viol Injunct Domestic Violence' : 'Violation Injunction Domestic Violence', \n",
    "'Operating W/O Valid License' : 'Operating without Valid License' ,\n",
    "'Disorderly Conduct' : 'Resist Officer Without Violence',\n",
    "'Battery on a Person Over 65' : 'Battery one an elderly',\n",
    "'Aggravated Battery' : 'Aggravated Battery' ,\n",
    "'Trespass Struct/Conveyance' : 'Trespassing Conveyance',\n",
    "'Possession of Cannabis' : 'Possession of Drug',\n",
    "'Burglary Conveyance Assault/Bat' : 'Burglary Conveyance Assault or Battery', \n",
    "'Felony Battery w/Prior Convict' : 'Felony Battery with Prior Convicted',\n",
    "'Petit Theft' : 'Petit Theft',\n",
    "'Burglary Dwelling Occupied' : 'Burglary Dwelling Occupied',\n",
    "'DUI Property Damage/Injury' : 'DUI Property Damage or Injury',\n",
    "'Gambling/Gamb Paraphernalia' : 'Gambling Drug',\n",
    "'Fighting/Baiting Animals' : 'Animal Abuse',\n",
    "'False Ownership Info/Pawn Item' : 'Falsely Ownership Info or Pawn Item',\n",
    "'Assault' : 'Assault',\n",
    "'Manufacture Cannabis' : 'Manufacture Drug' ,\n",
    "'Agg Battery Grt/Bod/Harm' : 'Aggravated Battery',\n",
    "'Poss Of Controlled Substance' : 'Possession Of Controlled Substance',\n",
    "'Poss of Cocaine W/I/D/S 1000FT Park' : 'Selling Drug',\n",
    "'Att Burgl Unoccupied Dwel' : 'Burglary Unoccupied Dwelling',\n",
    "'Del Cannabis For Consideration' : 'Possession of Drug',\n",
    "'Aggravated Assault' : 'Aggravated Assault' ,\n",
    "'Forging Bank Bills/Promis Note' : 'Uttering a Forged Instrument', \n",
    "'Burglary Structure Assault/Batt' : 'Burglary Conveyance Assault or Battery',\n",
    "'Opert With Susp DL 2nd Offens' : 'Operating With Suspended Driving License second Offense',\n",
    "'Robbery W/Firearm' : 'Robbery with Deadly Weapon',\n",
    "'Cruelty Toward Child' : 'Child Abuse', \n",
    "'Fleeing or Eluding a LEO' : 'Fleeing or Eluding a Law Enforcement Officer',\n",
    "'Disorderly Intoxication' : 'Disorderly Intoxication',\n",
    "'Burglary Conveyance Unoccup' : 'Burglary Conveyance Unoccupied',\n",
    "'Crim Use of Personal ID Info' : 'Criminal Use of Driver License Info',\n",
    "'Poss Wep Conv Felon' : 'Possession of Weapon with convicted felony' ,\n",
    "'Burglary Dwelling Armed' : 'Burglary Dwelling Armed',\n",
    "'Possession Firearm School Prop' :  'Possession Firearm School Property', \n",
    "'Possession of Benzylpiperazine' : 'Possession of Drug',\n",
    "'Cash Item w/Intent to Defraud' : 'Cash Item With Intention to Defrauding',\n",
    "'Crimin Mischief Damage $1000+' : 'Criminal Mischief Damage $1000+',\n",
    "'Unauth Poss ID Card or DL' : 'Unauthorized Possession of ID Card or Driving License',\n",
    "'Trespass Private Property': 'Trespassing Private Property',\n",
    "'Assault Law Enforcement Officer' : 'Assault Law Enforcement Officer',\n",
    "'Fraudulent Use of Credit Card' : 'Fraudulent Use of Credit Card',\n",
    "'Littering' : 'Littering',\n",
    "'Poss Contr Subst W/o Prescript' : 'Possession of Controlled Substance Without Prescription',\n",
    "'Restraining Order Dating Viol' : 'Restraining Order Dating Violence',\n",
    "'Possession Burglary Tools' : 'Possession of Burglary Tools',\n",
    "'Grand Theft of a Fire Extinquisher' : 'Grand Theft of a Fire Extinquisher',\n",
    "'Fleeing Or Attmp Eluding A Leo' : 'Fleeing or Eluding a Law Enforcement Officer',\n",
    "'Traffick Amphetamine 28g><200g' : 'Trafficking Drug 28g><200g',\n",
    "'Agg Fleeing and Eluding' : 'Aggravated Fleeing and Eluding',\n",
    "'Trespassing/Construction Site' : 'Trespassing Construction Site',\n",
    "'Reckless Driving' : 'Reckless Driving' ,\n",
    "'Agg Abuse Elderlly/Disabled Adult' : 'Aggravated Abuse Elderly or disabled Adult', \n",
    "'Dealing in Stolen Property' : 'Dealing in Stolen Property',\n",
    "'Defrauding Innkeeper' : 'Defrauding Innkeeper',\n",
    "'DUI/Property Damage/Persnl Inj' : 'DUI with Property Damage and Person Injury',\n",
    "'Grand Theft Firearm' : 'Grand Theft with deadly weapon',\n",
    "'Kidnapping / Domestic Violence' : 'Kidnapping and Domestic Violence',\n",
    "'DUI - Enhanced' : 'DUI - Enhanced',\n",
    "'Failure To Return Hired Vehicle' : 'Failure To Return Hired Property',\n",
    "'Exposes Culpable Negligence' : 'Exposes Culpable Negligence',\n",
    "'Opert With Susp DL 2ND Offense' : 'Operating With Suspended Driving License second Offense',\n",
    "'Use of Anti-Shoplifting Device' : 'Possession of Anti-Shoplifting Device',\n",
    "'Possession of Hydromorphone' : 'Possession of Drug',\n",
    "'Uttering a Forged Instrument': 'Uttering a Forged Instrument',\n",
    "'Stalking (Aggravated)' : 'Aggravated Stalking',\n",
    "'Purchase Cannabis' : 'Purchase Drug',\n",
    "'DWI w/Inj Susp Lic / Habit Off' :  'DUI with Injury Suspended Driver License Habit Offense',\n",
    "'Lve/Scen/Acc/Veh/Prop/Damage' : 'DUI with Property Damage and Person Injury',\n",
    "'Child Abuse' : 'Child Abuse',\n",
    "'Tamper With Witness/Victim/CI' : 'Tampering With Witness or Victim or Confidential Informant', \n",
    "'Imperson Public Officer or Emplyee' : 'Impersonate Public Officer or Employee',\n",
    "'Felony Batt(Great Bodily Harm)' : 'Aggravated Battery',\n",
    "'Possession of Butylone' : 'Possession of Drug',\n",
    "'Attempted Robbery  No Weapon' : 'Attempted Robbery Without Weapon',\n",
    "'Felony Battery' : 'Felony Battery',\n",
    "'Retail Theft $300 2nd Offense' : 'Retail Theft $300 second Offense',\n",
    "'Burglary Dwelling Assault/Batt' : 'Burglary Dwelling Assault or Battery',\n",
    "'Prowling/Loitering' : 'Prowling and Loitering', \n",
    "'Unlawful Conveyance of Fuel' : 'Unlawful Conveyance of Fuel',\n",
    "'Del Cannabis At/Near Park' : 'Delivery Drug',\n",
    "'Deliver Cocaine 1000FT Store' : 'Delivery Drug',\n",
    "'Possession Of 3,4Methylenediox' : \"Possession of drug\",\n",
    "'Deliver Cocaine' : 'Delivery Drug',\n",
    "'Possession Of Amphetamine' : 'Possession Of Drug',\n",
    "'Fabricating Physical Evidence' : 'Fabricating Physical Evidence',\n",
    "'Conspiracy to Deliver Cocaine' : 'Delivery Drug',\n",
    "'Possession of Morphine' : 'Possession of Drug',\n",
    "'Neglect Child / Bodily Harm' : 'Child Abuse',\n",
    "'Sex Offender Fail Comply W/Law' : 'Sexual Offender Failure to Comply with Law officer',\n",
    "'Fail To Redeliver Hire Prop' : 'Failure to Return Hired Property',\n",
    "'Simulation of Legal Process' : 'Simulation of Legal Process', \n",
    "'Robbery / Weapon' : 'Robbery with Deadly Weapon',\n",
    "'Robbery Sudd Snatch No Weapon' : 'Robbery',\n",
    "'Disrupting School Function' : 'Unlawful Disturb Education or Institute',\n",
    "'Poss/Sell/Del Cocaine 1000FT Sch' : \"Selling Drug\",\n",
    "'Lewd or Lascivious Molestation' : 'Lewdness Violation',\n",
    "'Poss of Methylethcathinone' : 'Possession of drug',\n",
    "'Robbery / No Weapon' : \"Robbery\",\n",
    "'Grand Theft of the 2nd Degree' : 'Grand Theft of the second Degree',\n",
    "'Possession Of Buprenorphine' : 'Possession Of Drug',\n",
    "'Possession of Codeine' : 'Possession Of Drug',\n",
    "'Criminal Mischief Damage <$200' : 'Criminal Mischief Damage <$200',\n",
    "'Unlaw Use False Name/Identity' : 'Criminal Use of Falsely Identification',\n",
    "'Viol Prot Injunc Repeat Viol' : \"Violation Protect Injunction Repeat Violence\",\n",
    "'Theft' : 'Theft',\n",
    "'Viol Pretrial Release Dom Viol' : \"Domestic Violence\",\n",
    "'Corrupt Public Servant' : 'Corrupt Public officer',\n",
    "'Burglary With Assault/battery' : 'Burglary With Assault or battery',\n",
    "'Harm Public Servant Or Family' : 'Harm Public officer Or Family',\n",
    "'Aggrav Stalking After Injunctn' : 'Aggravated Stalking After Injunction',\n",
    "'Possess Drug Paraphernalia' : 'Possession of Drug',\n",
    "'DUI- Enhanced' : 'DUI- Enhanced',\n",
    "'Lewdness Violation' : 'Lewdness Violation',\n",
    "'Possession of Hydrocodone' : 'Possession of Drug',       \n",
    "'Lewd Act Presence Child 16-': 'Lewdness Violation', \n",
    "'Poss Cocaine/Intent To Del/Sel' : 'Selling Drug',\n",
    "'Possession of Oxycodone' : 'Possession of Drug',\n",
    "'Video Voyeur-<24Y on Child >16' : 'Voyeurism',\n",
    "'Shoot Into Vehicle' : 'Aggravated Assault',\n",
    "'Live on Earnings of Prostitute' : 'Live on Earnings of Prostitution',\n",
    "'Armed Trafficking in Cannabis' : 'Armed Trafficking in Drug',\n",
    "'Retail Theft $300 1st Offense' : 'Retail Theft $300 first Offense',\n",
    "'Viol Injunction Protect Dom Vi' : 'Violation Injunction Protect Domestic Violence',\n",
    "'Fel Drive License Perm Revoke' : 'Felony Driving License Permanently Revoked',\n",
    "'Possess w/I/Utter Forged Bills': 'Uttering a Forged Instrument',\n",
    "'Possession Of Carisoprodol' : 'Possession Of Drug',\n",
    "'Unlicensed Telemarketing' : 'Unlicensed Telemarketing',\n",
    "'Posses/Disply Susp/Revk/Frd DL' : 'Possession of Suspended Driving License',\n",
    "'Att Burgl Struc/Conv Dwel/Occp' : 'Attempted Burglary Conveyance Occupied', \n",
    "'Possession Of Cocaine': 'Possession Of Drug',\n",
    "'Obstruct Fire Equipment' : 'Obstruct Fire Equipment',\n",
    "'Possession of Alcohol Under 21' : 'Possession of Alcohol Under 21',\n",
    "'Possession of Methadone' : 'Possession of drug',\n",
    "'Sale/Del Counterfeit Cont Subs' : 'Sale delivery Counterfeit Controlled Substance',\n",
    "'Sex Battery Deft 18+/Vict 11-' : 'Sexual Battery',\n",
    "'DWLS Canceled Disqul 1st Off' : 'Driving while license suspended canceled disqualified first offense',\n",
    "'Purchase Of Cocaine' : 'Purchase Of Drug',\n",
    "'Delivery of Heroin' : 'Delivery of drug',\n",
    "'Crim Attempt/Solicit/Consp' : 'Criminal Attempted and Solicitation Conspiracy',\n",
    "'Violation Of Boater Safety Id' : 'Violation Of Boater Safety Id',\n",
    "'Flee/Elude LEO-Agg Flee Unsafe' : 'Fleeing or Eluding a Law Enforcement Officer',\n",
    "'Poss Oxycodone W/Int/Sell/Del': 'Selling Drug',\n",
    "'Grand Theft (motor Vehicle)' : 'Grand Theft (motor Vehicle)',\n",
    "'Offer Agree Secure/Lewd Act' : 'Offer Agree Secure Lewdness Act',\n",
    "'Depriv LEO of Protect/Communic' : 'Depriving Law Enforcement officer of means of protect or communication',\n",
    "'Fraud Obtain Food or Lodging' : 'Fraudulent Obtain Food or Lodging',\n",
    "'Sex Batt Faml/Cust Vict 12-17Y' : 'Sexual Battery family custodial Victim 12-17Y',\n",
    "'Intoxicated/Safety Of Another' : 'Intoxication and Safety Of Another',\n",
    "'DWLS Susp/Cancel Revoked' : 'Driving while license suspended canceled revoked',\n",
    "'Aide/Abet Prostitution Lewdness' : 'Aiding and Abet Prostitution Lewdness',\n",
    "'Solic to Commit Battery' : 'Solicitation to Commit Battery',\n",
    "'Battery On Fire Fighter' : 'Battery On Fire Fighter',\n",
    "'Shoot In Occupied Dwell' : 'Shoot In Occupied Dwelling',\n",
    "'Voyeurism' :'Voyeurism' , \n",
    "'Compulsory Attendance Violation' : 'Compulsory Attended Violation', \n",
    "'Poss Of 1,4-Butanediol' : 'Possession Of Drug',\n",
    "'Burgl Dwel/Struct/Convey Armed' : 'Burglary conveyance with Deadly Weapon',\n",
    "'Poss Pyrrolidinovalerophenone W/I/D/S' : 'Possession Pyrrolidinovalerophenone with intention to distribute schedule',\n",
    "'Interference with Custody' : 'Interference with Custody',\n",
    "'Deliver Alprazolam' : 'Delivery Drug',\n",
    "'Attempted Robbery Firearm' : \"Attempted Robbery With Deadly Weapon\",\n",
    "'Trespass Other Struct/Conve' : 'Trespassing Other Conveyance',\n",
    "'Carjacking with a Firearm' : 'Grand Theft with Deadly weapon',\n",
    "'False 911 Call' : 'Falsely 911 Call',\n",
    "'Conspiracy Dealing Stolen Prop' : 'Conspiracy Dealing Stolen Property',\n",
    "'Failure To Pay Taxi Cab Charge' : 'Failure To Paying Taxi Cab Charge',\n",
    "'Tresspass in Structure or Conveyance' : 'Trespassing in Conveyance',\n",
    "'Sexual Performance by a Child' : \"Child Pornography\",\n",
    "'Trespass Struct/Convey Occupy' : 'Trespassing Conveyance Occupied',\n",
    "'Violation of Injunction Order/Stalking/Cyberstalking' : 'Violation of Injunction Order or Stalking or Cyberstalking',\n",
    "'Sell/Man/Del Pos/w/int Heroin' : 'selling manufacture delivery possession with intention drug',\n",
    "'Exhibition Weapon School Prop' : 'Exhibition Weapon School Property',\n",
    "'Prostitution/Lewdness/Assign' : 'Prostitution or Lewdness or Assignation',\n",
    "'Solicit To Deliver Cocaine' : 'Solicitation To Delivery Drug',\n",
    "'Escape' : 'Escape',\n",
    "'Carjacking w/o Deadly Weapon' : 'Carjacking Without Deadly Weapon',\n",
    "'Aggravated Battery On 65/Older' : 'Aggravated Battery On Elderly',\n",
    "'Crim Attempt/Solic/Consp' : 'Criminal Attempted, Solicitation Conspiracy',\n",
    "'Traffic Counterfeit Cred Cards' : 'Trafficking Counterfeit Credit Card',\n",
    "'Trans/Harm/Material to a Minor' : 'Transmission material harmful to a minor',\n",
    "'Giving False Crime Report' : 'Contradict Statement',\n",
    "'Abuse Without Great Harm' : 'Abuse Without Great Harm', \n",
    "'Poss Alprazolam W/int Sell/Del' : 'Selling Drug',\n",
    "'Structuring Transactions' : 'Structuring Transactions',\n",
    "'Purchase/P/W/Int Cannabis' : 'purchase with intention Drug',\n",
    "'False Name By Person Arrest' : 'Contradict Statement',\n",
    "'Unauth C/P/S Sounds>1000/Audio' : 'Unauthorized C/P/S',\n",
    "'Possession Of Clonazepam' : 'Possession Of Drug',\n",
    "'False Info LEO During Invest' : 'Falsely Info law enforcement officer During Investigation',\n",
    "'Money Launder 100K or More Dols' : 'Money Launder 100K or More Dollars',\n",
    "'Carry Open/Uncov Bev In Pub' : 'Carrying Open Uncovered Beverage In Public',\n",
    "'Possession Of Anabolic Steroid' : 'Possession Of Anabolic Steroid',\n",
    "'Crim Use Of Personal Id Info' : 'Criminal Use Of Driver License Info',\n",
    "'Criminal Attempt 3rd Deg Felon' : 'Criminal Attempted third Degree felony',\n",
    "'Sell Cannabis' : 'Selling Drug',\n",
    "'Possession of Cannabis' : 'Possession of Drug',\n",
    "'Unlaw Lic Use/Disply Of Others' : 'Unlawful Driver License Use and Display Of Others',\n",
    "'Use Computer for Child Exploit' : 'Child Pornography',\n",
    "'Attempted Deliv Control Subst' : 'Attempted and Delivery Controlled Substance',\n",
    "'Tampering with a Victim' : 'Tampering with a Victim',\n",
    "'Obstruct Officer W/Violence' : 'Resist Officer with Violence',\n",
    "'Consume Alcoholic Bev Pub' : 'Consume Alcohol Beverage Public',\n",
    "'Sexual Battery / Vict 12 Yrs +' : 'Sexual Battery with Victim 12Y',\n",
    "'Possession Of Fentanyl' : 'Possession Of Drug',\n",
    "'Del 3,4 Methylenedioxymethcath' : 'Delivery drug',\n",
    "'Unlawful Use Of Police Badges' : 'Unlawful Use Of Police Badges',\n",
    "'Battery Spouse Or Girlfriend' : 'Battery Spouse Or Girlfriend',\n",
    "'Deliver Cocaine 1000FT School' : 'Delivery Drug School',\n",
    "'False Bomb Report' : 'Falsely Bomb Report',\n",
    "'Computer Pornography' : 'Computer Pornography',\n",
    "'Use Of 2 Way Device To Fac Fel' : 'Use Of 2 Way Device To Face Felony',\n",
    "'Possession Of Lorazepam' : 'Possession Of Drug',\n",
    "'Robbery W/Deadly Weapon' : 'Robbery With Deadly Weapon',\n",
    "'Attempt Armed Burglary Dwell' : 'Attempted Armed Burglary Dwelling',\n",
    "'Insurance Fraud' : 'Insurance Fraudulent',\n",
    "'Possess Mot Veh W/Alt Vin #' : 'Possession of Motor Vehicle With Alternative Number',\n",
    "'Delivery of 5-Fluoro PB-22' : 'Delivery of Drug',\n",
    "'Deliver Cocaine 1000FT Park' : 'Delivery Drug',\n",
    "'Arson II (Vehicle)' : 'Arson (Vehicle)',\n",
    "'Possession Of Paraphernalia' : 'Possession Of Drug',\n",
    "'Contradict Statement' : 'Contradict Statement', \n",
    "'Consp Traff Oxycodone 28g><30k' : 'Conspire Trafficking Drug',\n",
    "'Possession of XLR11' : 'Possession of XLR11', \n",
    "'Unauthorized Interf w/Railroad' : 'Unauthorized Interference with Railroad',\n",
    "'Counterfeit Lic Plates/Sticker' : 'Counterfeit License Plates or Sticker',\n",
    "'Possess Cannabis 1000FTSch' : 'Possession of Drug',\n",
    "'Aggress/Panhandle/Beg/Solict' : 'Aggressive Panhandling', \n",
    "'Poss Trifluoromethylphenylpipe' : 'Possession of Drug',\n",
    "'Murder In 2nd Degree W/firearm' : 'Murder In Second Degree With Firearm',\n",
    "'Traffick Hydrocodone   4g><14g' : 'Trafficking Drug',\n",
    "'Principal In The First Degree' : 'Principal In The first Degree',\n",
    "'Deliver Cocaine 1000FT Church' : 'Delivery Drug',\n",
    "'Att Burgl Conv Occp' : 'Attempted Burglary Conveyance Occupied',\n",
    "'Unl/Disturb Education/Instui' : 'Unlawful Disturb Education or Institute',\n",
    "'Possession Of Diazepam' : 'Possession Of Diazepam',\n",
    "'Interfere W/Traf Cont Dev RR' : 'Interference With Trafficking Controlled Device railroad',\n",
    "'Deliver Cannabis 1000FTSch' : 'Delivery Drug School',\n",
    "'Possession of LSD' : 'Possession of LSD', \n",
    "'Lewd/Lasciv Molest Elder Persn' : 'Lewdness Violation',\n",
    "'Trespass On School Grounds':  'Trespassing On School Grounds',\n",
    "'Throw In Occupied Dwell': 'Throw In Occupied Dwelling',\n",
    "'Fail Sex Offend Report Bylaw' : 'Failure Sexual Offend Report By Law',\n",
    "'Manslaughter W/Weapon/Firearm' : 'Manslaughter With Deadly Weapon', \n",
    "'Throw Missile Into Pub/Priv Dw' :'Throw Missile Into Public or Private Driveway',\n",
    "'Present Proof of Invalid Insur' : 'Present Proof of Invalid Insurance',\n",
    "'Theft/To Deprive' : 'Theft',\n",
    "'Poss Unlaw Issue Driver Licenc' : 'Possession of Unlawful Issuing Driver License' ,\n",
    "'Extradition/Defendants' : 'Extradition Defendants',\n",
    "'Tamper With Victim' : 'Tampering With Victim',\n",
    "'Neglect Child / No Bodily Harm' : 'Child Abuse',\n",
    "'Poss 3,4 MDMA (Ecstasy)' : 'Possession of drug', \n",
    "'Violation License Restrictions' : 'Violation License Restrictions' , \n",
    "'Criminal Mischief>$200<$1000' : 'Criminal Mischief>$200<$1000',\n",
    "'Felon in Pos of Firearm or Amm' : 'Possession of Deadly Weapon',\n",
    "'Culpable Negligence' : 'Culpable Negligence' ,\n",
    "'Uttering Forged Bills' : 'Uttering Forged Bills', \n",
    "'Possess Countrfeit Credit Card' : 'Possession of Counterfeit Credit Card',\n",
    "'Leaving Acc/Unattended Veh' : 'Leaving Accident with Unattended Vehicle', \n",
    "'Hiring with Intent to Defraud' : 'Defrauding Hired',\n",
    "'Sell or Offer for Sale Counterfeit Goods' : 'Selling Counterfeit Goods' ,\n",
    "'Refuse to Supply DNA Sample' :'Refuse to Supply DNA Sample',\n",
    "'Felony/Driving Under Influence' :'Felony and Driving Under Influence',\n",
    "'DUI Blood Alcohol Above 0.20' : 'DUI Blood Alcohol Above 0.20' ,\n",
    "'Aggravated Battery (Firearm/Actual Possession)' : 'Aggravated Battery',\n",
    "'Exploit Elderly Person 20-100K' : 'Exploit Elderly Person 20-100K', \n",
    "'Soliciting For Prostitution' : 'Solicitation For Prostitution',\n",
    "'Battery Emergency Care Provide': 'Battery Emergency Care Provide',\n",
    "'Attempted Burg/struct/unocc' : 'Attempted Burglary Conveyance unoccupied', \n",
    "'Drivg While Lic Suspd/Revk/Can' : 'Driving while driver license Suspended', \n",
    "'Aggravated Assault W/o Firearm' : 'Aggravated Assault Without Weapon',\n",
    "'Fail To Obey Police Officer' : 'Resist Officer Without Violence',\n",
    "'Poss F/Arm Delinq' : 'Possession of Firearm Delinquency',\n",
    "'Open Carrying Of Weapon' : 'Open Carrying Of Weapon',\n",
    "'Aggrav Child Abuse-Agg Battery' : 'Aggravated Child Abuse',\n",
    "'D.U.I. Serious Bodily Injury' : 'D.U.I. Serious Bodily Injury',\n",
    "'Strong Armed  Robbery' : 'Strong Armed  Robbery', \n",
    "'Accessory After the Fact' : 'Accessory After the Fact',\n",
    "'Burglary Assault/Battery Armed' : 'Burglary or Assault or Battery with Deadly Weapon',\n",
    "'Deliver 3,4 Methylenediox' : 'Delivery drug',\n",
    "'Att Tamper w/Physical Evidence' : 'Attempted Tampering with Physical Evidence',\n",
    "'Lewd/Lasc Battery Pers 12+/<16' : 'Lewdness violation',\n",
    "'Expired DL More Than 6 Months' :\"Operating with invalid Driver license\",\n",
    "'Discharge Firearm From Vehicle' :'shoot Firearm From Vehicle', \n",
    "'Solicitation On Felony 3 Deg' : 'Solicitation On Felony third Degree',  \n",
    "'Poss/Sell/Deliver Clonazepam' : 'Selling Clonazepam',\n",
    "'Traffick Oxycodone     4g><14g' : 'Trafficking Drug 4g><14g' ,\n",
    "'Fail Register Vehicle' : 'Failure Register Vehicle', \n",
    "'Grand Theft Dwell Property' : 'Grand Theft Dwelling Property',\n",
    "'Felony Committing Prostitution' : 'Prostitution',\n",
    "'Prostitution/Lewd Act Assignation' : 'Prostitution/Lewdness Act Assignation', \n",
    "'Solicit Deliver Cocaine' : 'Delivery Drug',\n",
    "'Poss of Vessel w/Altered ID NO' : 'Possession of Vessel with Alternative ID number',\n",
    "'Threat Public Servant' : 'Threat Public officer',\n",
    "'Poss/Sell/Del/Man Amobarbital' : 'Selling Drug', \n",
    "'Use Scanning Device to Defraud' : 'Use Scanning Device to Defrauding', \n",
    "'Poss Drugs W/O A Prescription' : 'Possession of Controlled Substance Without Prescription',\n",
    "'False Motor Veh Insurance Card' : 'Falsely Motor Vehicle Insurance Card' ,\n",
    "'Poss Meth/Diox/Meth/Amp (MDMA)' : 'Possession of drug', \n",
    "'Burglary Conveyance Armed' :'Burglary Conveyance with Deadly Weapon',\n",
    "'Aiding Escape' : 'Aiding Escape' , \n",
    "'PL/Unlaw Use Credit Card' : 'Unlawful Use Credit Card',\n",
    "'Carrying A Concealed Weapon' : 'Carrying A concealed weapon',\n",
    "'Introduce Contraband Into Jail' : 'Introduce Contraband Into Jail',\n",
    "'Lease For Purpose Trafficking' : 'Lease For Purpose Trafficking',\n",
    "'Grand Theft in the 1st Degree' : 'Grand Theft in the first Degree',\n",
    "'Grand Theft on 65 Yr or Older' : 'Grand Theft on Elderly' ,\n",
    "'Trespass Structure w/Dang Weap' : 'Trespassing Conveyance with Deadly Weapon',\n",
    "'Murder in 2nd Degree' : 'Murder in second Degree',\n",
    "'Poss Anti-Shoplifting Device' : 'Possession of Anti-Shoplifting Device',\n",
    "'Attempt Burglary (Struct)' : 'Attempted Burglary ',\n",
    "'Attempted Robbery  Weapon' : 'Attempted Robbery with Weapon', \n",
    "'Agg Assault Law Enforc Officer' : 'Aggravated Assault Law Enforcement Officer',\n",
    "'Tamper With Witness' : 'Tampering With Witness',\n",
    "'Aggravated Battery (Firearm)' : 'Aggravated Battery with Deadly Weapon',\n",
    "'Traff In Cocaine <400g>150 Kil' : 'Trafficking In Drug',\n",
    "'Tresspass Struct/Conveyance' : 'Trespassing Conveyance' ,\n",
    "'Poss Firearm W/Altered ID#' : 'Possession of Firearm with Alternative ID number',\n",
    "'Throw Deadly Missile Into Veh' : 'Throw Deadly Missile Into Vehicle',\n",
    "'Poss Unlaw Issue Id' : 'Possession of Unlawful Issuing Driver License',\n",
    "'Fail To Redeliv Hire/Leas Prop' : 'Failure to return hired property',\n",
    "'Cruelty to Animals' : 'Animal abuse', \n",
    "'nan' : 'Unknown',\n",
    "'Misuse Of 911 Or E911 System' : \"Falsely 911 call\",\n",
    "'Crlty Twrd Child Urge Oth Act' : \"Child Abuse\",\n",
    "'Possession of Ethylone' : 'Possession of Drug',\n",
    "'Attempted Burg/Convey/Unocc' : 'Attempted Burglary Conveyance Unoccupied', \n",
    "'Poss of Firearm by Convic Felo' : 'Possession of Firearm by Convicted Felony',\n",
    "'Obtain Control Substance By Fraud' : 'Obtain Controlled Substance By Fraudulent',\n",
    "'Fail Sex Offend Report Bylaw' : 'Failure Sexual Offender Report By law',\n",
    "'DOC/Cause Public Danger' : 'DOC and Cause Public Dangerous',\n",
    "'Contribute Delinquency Of A Minor' : 'Contribute Delinquency Of A Minor',\n",
    "'Trespass Structure/Conveyance': 'Trespassing Conveyance', \n",
    "'Poss Counterfeit Payment Inst' : 'Possession of Counterfeit Paying Instrument',\n",
    "'Poss Cntrft Contr Sub w/Intent' : 'Possession of Counterfeit Controlled Substance',\n",
    "'Pos Methylenedioxymethcath W/I/D/S' : 'Selling drug', \n",
    "'Poss Tetrahydrocannabinols' : \"Possession of Drug\",\n",
    "'License Suspended Revoked' : 'License Suspended Revoked',\n",
    "'Battery On A Person Over 65' : 'Battery On A Person Over 65',\n",
    "'Trespass Property w/Dang Weap' : 'Trespassing Property With Dangerous Weapon', \n",
    "'Consp Traff Oxycodone  4g><14g' : 'Trafficking Drug  4g><14g',\n",
    "'Agg Fleeing/Eluding High Speed' : 'Aggravated Fleeing or Eluding High Speed',\n",
    "'Aggr Child Abuse-Torture,Punish' : 'Aggravated Child Abuse',\n",
    "'Bribery Athletic Contests' : 'Bribery Athletic Contests',\n",
    "'Purchasing Of Alprazolam' : 'Purchase Drug',\n",
    "'Del of JWH-250 2-Methox 1-Pentyl' : 'Delivery Drug',\n",
    "'Dealing In Stolen Property' : 'Dealing In Stolen Property',\n",
    "'Pos Cannabis For Consideration' : 'Possession of Drug',\n",
    "'Sel Etc/Pos/w/Int Contrft Schd' : 'Selling controlled substance',\n",
    "'Murder in the First Degree' : 'Murder in the First Degree',\n",
    "'Alcoholic Beverage Violation-FL' : 'Alcohol Beverage Violation',\n",
    "'Uttering Worthless Check +$150' : 'Uttering Worthless Check +$150',\n",
    "'Burglary Structure Occupied' : 'Burglary Conveyance Occupied',\n",
    "'Battery On Parking Enfor Speci' : 'Battery',\n",
    "'Refuse Submit Blood/Breath Test' : 'Refuse Submit Blood/Breath Test',\n",
    "'Oper Motorcycle W/O Valid DL' : 'Operating Motor Without Valid Driver License',\n",
    "'Possession Of Phentermine' : 'Possession Of Drug',\n",
    "'Possession Child Pornography' : 'Child Pornography',\n",
    "'DUI - Property Damage/Personal Injury' : 'DUI - Property Damage and Person Injury' ,\n",
    "'Unemployment Compensatn Fraud' : 'Unemployment Compensation Fraudulent',\n",
    "'Felony DUI - Enhanced' : 'DUI - Enhanced',\n",
    "'Fail Obey Driv Lic Restrictions' : 'Failure to Obey Driver License Restrictions',\n",
    "'Issuing a Worthless Draft' : 'Issuing a Worthless Draft',\n",
    "'Sel/Pur/Mfr/Del Control Substa' : 'Selling Controlled substance', \n",
    "'Grand Theft In The 3Rd Degree' : 'Grand Theft In The third Degree',\n",
    "'Harass Witness/Victm/Informnt' : 'Harass Witness or Victim of Confidential Informant',\n",
    "'Uttering Forged Credit Card' : 'Uttering Forged Credit Card',\n",
    "'Leave Accd/Attend Veh/Less $50' : 'Leaving accident with attended Vehicle less than $50',\n",
    "'Lewd/Lasc Exhib Presence <16yr' : 'Lewdness Violation',\n",
    "'Poss Pyrrolidinobutiophenone': 'Possession of drug',\n",
    "'Offn Against Intellectual Prop': 'Offense against Intellectual Property',\n",
    "'Manage Busn W/O City Occup Lic' : 'Manage Business without city occupation license', \n",
    "'Arson in the First Degree' : 'Arson first degree',\n",
    "'Sound Articles Over 100' : 'Sound Articles Over 100',\n",
    "'Falsely Impersonating Officer' :'Falsely Impersonate Officer',\n",
    "'Poss Similitude of Drivers Lic' : 'Possession of unlawful Driver License', \n",
    "'Sale/Del Cannabis At/Near Scho' : 'Selling Drug',\n",
    "'Poss/pur/sell/deliver Cocaine' : 'Selling Drug',\n",
    "'Fail Register Career Offender' : 'Failure Register Career Offender',\n",
    "'Sell Conterfeit Cont Substance' : 'Selling Counterfeit Controlled Substance',\n",
    "'Aggrav Child Abuse-Causes Harm' : 'Aggravated Child Abuse',\n",
    "'Possess Controlled Substance' : 'Possession of Controlled Substance',\n",
    "'Neglect/Abuse Elderly Person' : \"Elderly Abuse\",\n",
    "'Fail To Secure Load' : 'Failure To Secure Load',\n",
    "'Compulsory Sch Attnd Violation' : 'Compulsory School Attended Violation',\n",
    "'Solicit Purchase Cocaine' : 'Solicitation Purchase Drug',\n",
    "'Possess Weapon On School Prop' : 'Possession Weapon On School Property',\n",
    "'Possess/Use Weapon 1 Deg Felon' : 'Possession of Weapon first Degree Felony',\n",
    "'Cause Anoth Phone Ring Repeat' : 'Cause Another Phone Ring Repeat',\n",
    "'Prostitution' : 'Prostitution',\n",
    "'Possess Tobacco Product Under 18' : 'Possession of Tobacco Product Under 18',\n",
    "'Agg Assault W/int Com Fel Dome' : 'Aggravated Assault With intention to commit Domestic Violence'}"
   ]
  },
  {
   "cell_type": "markdown",
   "metadata": {},
   "source": [
    "Then this natural language is processed, removing non alphabetical, stop words and lowered. These short descriptions then are tokenized for one hot conversion."
   ]
  },
  {
   "cell_type": "code",
   "execution_count": null,
   "metadata": {},
   "outputs": [],
   "source": [
    "# Create a dictionary of key words from charge description\n",
    "dict_desc = []\n",
    "convert_values = list(convert.values())\n",
    "for key, item in convert.items():\n",
    "    cv = CountVectorizer(stop_words='english')\n",
    "    item1 = re.sub('[^a-zA-Z]', ' ', item)\n",
    "    tmp = item1.lower().split()\n",
    "    matrix = cv.fit_transform(tmp)\n",
    "    vocab = list(cv.vocabulary_.keys())\n",
    "    convert[key] = vocab\n",
    "print(convert)\n"
   ]
  },
  {
   "cell_type": "code",
   "execution_count": null,
   "metadata": {},
   "outputs": [],
   "source": [
    "# update the charge description columns to new converted list\n",
    "full_df_is_recid['c_charge_desc'] = full_df_is_recid['c_charge_desc'].map(convert)\n",
    "full_df_is_recid = full_df_is_recid.dropna(subset=['c_charge_desc'])\n",
    "\n",
    "full_df_two_year_recid['c_charge_desc'] = full_df_two_year_recid['c_charge_desc'].map(convert)\n",
    "full_df_two_year_recid = full_df_two_year_recid.dropna(subset=['c_charge_desc'])"
   ]
  },
  {
   "cell_type": "code",
   "execution_count": null,
   "metadata": {
    "scrolled": true
   },
   "outputs": [],
   "source": [
    "#TWO_YEAR_RECID\n",
    "# Apply one hot encoding for the list of charge description\n",
    "mlb = MultiLabelBinarizer(sparse_output=True)\n",
    "\n",
    "charge_label = full_df_two_year_recid[\"two_year_recid\"].to_frame()\n",
    "charge_label = charge_label.join(\n",
    "            pd.DataFrame.sparse.from_spmatrix(\n",
    "                mlb.fit_transform(full_df_two_year_recid.pop('c_charge_desc')),\n",
    "                index=charge_label.index,\n",
    "                columns=mlb.classes_))\n",
    "\n",
    "display(charge_label.head())"
   ]
  },
  {
   "cell_type": "markdown",
   "metadata": {},
   "source": [
    "Run this one hot matrix via chi square analysis to determine features/words to keep. My significant threshold is at 0.05 but it can be as high as 0.1. Given this parameter, we found 29 feature worth training on."
   ]
  },
  {
   "cell_type": "code",
   "execution_count": null,
   "metadata": {},
   "outputs": [],
   "source": [
    "# Run chi2 to see what catergorical features from charge description need to keep\n",
    "SIG = 0.05\n",
    "MOD_SIG = 0.1\n",
    "cols = charge_label.columns.to_list()\n",
    "LABEL = \"two_year_recid\"\n",
    "cols.remove(LABEL)\n",
    "feat_keep = []\n",
    "feat_maybe = []\n",
    "\n",
    "for col in cols:\n",
    "    contingency = pd.crosstab(charge_label[LABEL], charge_label[col])\n",
    "    display(contingency)\n",
    "    c, p, dof, expected = chi2_contingency(contingency)\n",
    "    if p < SIG:\n",
    "        feat_keep.append(col)\n",
    "        print(col, \"and label are not independent - keep, p =\", p)\n",
    "    elif p < MOD_SIG:\n",
    "        feat_maybe.append(col)\n",
    "        print(col, \"and label may have some relationship - maybe keep, p =\", p)\n",
    "    else:\n",
    "        print(col, \"and label are independent - drop, p =\", p)"
   ]
  },
  {
   "cell_type": "code",
   "execution_count": null,
   "metadata": {
    "scrolled": true
   },
   "outputs": [],
   "source": [
    "print(len(feat_keep))\n",
    "print(feat_keep)"
   ]
  },
  {
   "cell_type": "code",
   "execution_count": null,
   "metadata": {},
   "outputs": [],
   "source": [
    "print(len(feat_maybe))\n",
    "print(feat_maybe)"
   ]
  },
  {
   "cell_type": "code",
   "execution_count": null,
   "metadata": {},
   "outputs": [],
   "source": [
    "# feat_keep = feat_keep + feat_maybe + ['two_year_recid']\n",
    "feat_keep = feat_keep + ['two_year_recid']\n",
    "print(feat_keep)"
   ]
  },
  {
   "cell_type": "code",
   "execution_count": null,
   "metadata": {},
   "outputs": [],
   "source": [
    "charge_label = charge_label[feat_keep]\n",
    "charge_label.shape"
   ]
  },
  {
   "cell_type": "code",
   "execution_count": null,
   "metadata": {},
   "outputs": [],
   "source": [
    "# add the new list of charge description as column to the full_df_is_recid\n",
    "for i in charge_label.columns.to_list(): \n",
    "    full_df_two_year_recid[i] = charge_label[i]\n",
    "display(full_df_two_year_recid.head())"
   ]
  },
  {
   "cell_type": "code",
   "execution_count": null,
   "metadata": {},
   "outputs": [],
   "source": [
    "print(full_df_two_year_recid.shape)"
   ]
  },
  {
   "cell_type": "code",
   "execution_count": null,
   "metadata": {},
   "outputs": [],
   "source": [
    "# Apply one hot encoding for categorical features: sex and age_cat\n",
    "categorical = {\"sex\", \"age_cat\", \"race\", \"c_charge_degree\"}\n",
    "full_df_two_year_recid =  pd.get_dummies(full_df_two_year_recid,columns=categorical)\n",
    "display(full_df.head())"
   ]
  },
  {
   "cell_type": "code",
   "execution_count": null,
   "metadata": {},
   "outputs": [],
   "source": [
    "print(full_df_two_year_recid.shape)"
   ]
  },
  {
   "cell_type": "code",
   "execution_count": null,
   "metadata": {},
   "outputs": [],
   "source": [
    "#full_df_two_year_recid.corr(method=\"spearman\")"
   ]
  },
  {
   "cell_type": "markdown",
   "metadata": {},
   "source": [
    "Then, use Spearman to find the correlation between the remaining features with label, none of which is at significant correlation/redundant to be dropped."
   ]
  },
  {
   "cell_type": "code",
   "execution_count": null,
   "metadata": {},
   "outputs": [],
   "source": [
    "# display the correlation of the features to the label\n",
    "list_corr = full_df_two_year_recid.corr(method=\"spearman\")['two_year_recid']\n",
    "print(list_corr)"
   ]
  },
  {
   "cell_type": "code",
   "execution_count": null,
   "metadata": {
    "scrolled": true
   },
   "outputs": [],
   "source": [
    "two_year_feat = full_df_two_year_recid.columns.to_list()\n",
    "print(two_year_feat)"
   ]
  },
  {
   "cell_type": "markdown",
   "metadata": {},
   "source": [
    "Then check the df against ANOVA, we can see that none of the features is normally distributed, thus either Kruskal or f_oneway needs to be used to determine the features to keep. Both analyses suggest keeping all current features."
   ]
  },
  {
   "cell_type": "code",
   "execution_count": null,
   "metadata": {},
   "outputs": [],
   "source": [
    "LABEL = \"two_year_recid\"\n",
    "df_fail_two_year = full_df_two_year_recid[full_df_two_year_recid[LABEL] == 0]\n",
    "df_pass_two_year = full_df_two_year_recid[full_df_two_year_recid[LABEL] == 1]\n",
    "\n",
    "SIG = 0.05\n",
    "MOD_SIG = 0.1\n",
    "for col in two_year_feat:\n",
    "    pop1 = df_fail_two_year[col]\n",
    "    pop2 = df_pass_two_year[col]\n",
    "    stat1, p1 = normaltest(pop1)\n",
    "    stat2, p2 = normaltest(pop2)\n",
    "    if p1 > SIG and p2 > SIG:\n",
    "        stat, p = bartlett(pop1, pop2)\n",
    "        if p > SIG:\n",
    "            print(col, \"meets ANOVA assumptions\")\n",
    "        else:\n",
    "            print(col, \"--> Kruskal-Wallis, variance is unequal:\", p)\n",
    "    else:\n",
    "        print(col,  \"--> Kruskal-Wallis, not normally distributed:\", p1, p2)"
   ]
  },
  {
   "cell_type": "code",
   "execution_count": null,
   "metadata": {},
   "outputs": [],
   "source": [
    "for col in two_year_feat:\n",
    "    pop1 = df_fail_two_year[col]\n",
    "    pop2 = df_pass_two_year[col]\n",
    "    stat, p = kruskal(pop1, pop2)\n",
    "    if p <= SIG:\n",
    "        print(col, \"and label are not independent - keep, p =\", p)\n",
    "    elif p <= MOD_SIG:\n",
    "        print(col, \"and label may have some relationship - maybe keep, p =\", p)\n",
    "    else:\n",
    "        print(col, \"and label are independent - drop, p =\", p)"
   ]
  },
  {
   "cell_type": "code",
   "execution_count": null,
   "metadata": {},
   "outputs": [],
   "source": [
    "new_two_year_feat = []\n",
    "for col in two_year_feat:\n",
    "    pop1 = df_fail_two_year[col]\n",
    "    pop2 = df_pass_two_year[col]\n",
    "    stat, p = f_oneway(pop1, pop2)\n",
    "    if p <= SIG:\n",
    "        new_two_year_feat.append(col)\n",
    "        print(col, \"and label are not independent - keep, p =\", p)\n",
    "    elif p <= MOD_SIG:\n",
    "        print(col, \"and label may have some relationship - maybe keep, p =\", p)\n",
    "    else:\n",
    "        print(col, \"and label are independent - drop, p =\", p)"
   ]
  },
  {
   "cell_type": "code",
   "execution_count": null,
   "metadata": {
    "scrolled": false
   },
   "outputs": [],
   "source": [
    "print(len(new_two_year_feat))\n",
    "print(new_two_year_feat)"
   ]
  },
  {
   "cell_type": "markdown",
   "metadata": {},
   "source": [
    "We then split the data to features and label as well as splitting 80/20, prepare for training and evaluation."
   ]
  },
  {
   "cell_type": "code",
   "execution_count": null,
   "metadata": {
    "scrolled": true
   },
   "outputs": [],
   "source": [
    "new_two_year_feat.remove(\"two_year_recid\")\n",
    "df_1_x = full_df_two_year_recid[new_two_year_feat]\n",
    "df_1_y = full_df_two_year_recid[LABEL]"
   ]
  },
  {
   "cell_type": "code",
   "execution_count": null,
   "metadata": {},
   "outputs": [],
   "source": [
    "# TWO_YEAR_RECID\n",
    "#df_shuffled_two_year_recid = full_df_two_year_recid.sample(frac=1, random_state=32).reset_index(drop=True)\n",
    "df_shuffled_two_year_recid = full_df_two_year_recid\n",
    "test_size_two_year_recid = int(len(df_shuffled_two_year_recid) * 0.2)\n",
    "df_test_two_year_recid = df_shuffled_two_year_recid[:test_size_two_year_recid]\n",
    "df_train_val_two_year_recid = df_shuffled_two_year_recid[test_size_two_year_recid:]\n",
    "val_size_two_year_recid = int(len(df_train_val_two_year_recid) * 0.2)\n",
    "df_val_two_year_recid = df_train_val_two_year_recid[:val_size_two_year_recid]\n",
    "df_train_two_year_recid = df_train_val_two_year_recid[val_size_two_year_recid:]\n",
    "\n",
    "\n",
    "df_1_x = df_train_two_year_recid[new_two_year_feat]\n",
    "df_1_y = df_train_two_year_recid[LABEL]\n",
    "x_val = df_val_two_year_recid[new_two_year_feat]\n",
    "y_val = df_val_two_year_recid[LABEL]\n",
    "x_test = df_test_two_year_recid[new_two_year_feat]\n",
    "y_test = df_test_two_year_recid[LABEL]"
   ]
  },
  {
   "cell_type": "markdown",
   "metadata": {},
   "source": [
    "In order to determine hyperparameter for our data, we use Keras Tuner to search for the combination of hidden layers and number of nodes in these layers.\n",
    "\n",
    "Define our search space to be max of 2 layers and between 4 and 140 nodes each."
   ]
  },
  {
   "cell_type": "code",
   "execution_count": null,
   "metadata": {},
   "outputs": [],
   "source": [
    "def tune_model1(hp):\n",
    "    model = keras.Sequential()\n",
    "    for i in range(hp.Int(\"num_layers\", min_value=1, max_value=2, step=1)):\n",
    "        model.add(layers.Dense(units=hp.Int(\"units_\" + str(i), min_value=4, max_value=140, step=4), activation=\"relu\"))\n",
    "    \n",
    "    model.add(layers.Dense(1, activation=\"sigmoid\"))\n",
    "    model.compile(optimizer=\"adam\", loss=\"binary_crossentropy\",\n",
    "                metrics=[\"accuracy\", \"TruePositives\", \"TrueNegatives\",\n",
    "                         \"FalsePositives\", \"FalseNegatives\"])\n",
    "    return model"
   ]
  },
  {
   "cell_type": "code",
   "execution_count": null,
   "metadata": {},
   "outputs": [],
   "source": [
    "tuner_acc1 = RandomSearch(\n",
    "    tune_model1, objective=\"val_accuracy\", \n",
    "    max_trials=10, executions_per_trial=3, project_name=\"objective_1\"\n",
    ")\n",
    "\n",
    "# tuner_acc1.search_space_summary()\n",
    "\n",
    "tuner_acc1.search(df_1_x.values,\n",
    "                 df_1_y.values,\n",
    "                 epochs=100,\n",
    "                 batch_size=512,\n",
    "                 validation_data=(x_val.values, y_val.values),\n",
    "                 callbacks=[keras.callbacks.EarlyStopping(monitor=\"val_loss\", patience=3)])"
   ]
  },
  {
   "cell_type": "code",
   "execution_count": null,
   "metadata": {
    "scrolled": true
   },
   "outputs": [],
   "source": [
    "tuner_acc1.results_summary()"
   ]
  },
  {
   "cell_type": "code",
   "execution_count": null,
   "metadata": {},
   "outputs": [],
   "source": [
    "def best_model(layer_info):\n",
    "    '''\n",
    "    layer_info is a list with nodes per layer\n",
    "    '''\n",
    "    model = keras.Sequential()\n",
    "    for i in range(len(layer_info)):\n",
    "        model.add(layers.Dense(layer_info[i], activation=\"relu\"))\n",
    "    \n",
    "    model.add(layers.Dense(1, activation=\"sigmoid\"))\n",
    "    model.compile(optimizer=\"adam\", loss=\"binary_crossentropy\",\n",
    "                metrics=[\"accuracy\", \n",
    "                         \"TruePositives\", \"TrueNegatives\",\n",
    "                         \"FalsePositives\", \"FalseNegatives\"])\n",
    "    return model"
   ]
  },
  {
   "cell_type": "markdown",
   "metadata": {},
   "source": [
    "We found that 84 nodes for first layer and 136 for the second layer works best.\n",
    "\n",
    "Compile model then train."
   ]
  },
  {
   "cell_type": "code",
   "execution_count": null,
   "metadata": {},
   "outputs": [],
   "source": [
    "best_model_acc1 = best_model([84, 136])\n",
    "best_model_acc1.fit(df_1_x.values, df_1_y.values, epochs=100, batch_size=512,\n",
    "                   validation_data=(x_val.values, y_val.values),\n",
    "                   callbacks=[keras.callbacks.EarlyStopping(monitor=\"val_loss\", patience=3)])"
   ]
  },
  {
   "cell_type": "code",
   "execution_count": null,
   "metadata": {},
   "outputs": [],
   "source": [
    "best_model_acc1.evaluate(x_test.values, y_test.values)"
   ]
  },
  {
   "cell_type": "code",
   "execution_count": null,
   "metadata": {},
   "outputs": [],
   "source": [
    "y_test_b = df_test_two_year_recid[df_test_two_year_recid[\"race_African-American\"] == 1][LABEL]\n",
    "\n",
    "best_model_acc1.evaluate(x_test[x_test[\"race_African-American\"] == 1].values, y_test_b.values)"
   ]
  },
  {
   "cell_type": "code",
   "execution_count": null,
   "metadata": {},
   "outputs": [],
   "source": [
    "y_test_w = df_test_two_year_recid[df_test_two_year_recid[\"race_Caucasian\"] == 1][LABEL]\n",
    "\n",
    "best_model_acc1.evaluate(x_test[x_test[\"race_Caucasian\"] == 1].values, y_test_w.values)"
   ]
  },
  {
   "cell_type": "code",
   "execution_count": null,
   "metadata": {},
   "outputs": [],
   "source": [
    "y_test_h = df_test_two_year_recid[df_test_two_year_recid[\"race_Hispanic\"] == 1][LABEL]\n",
    "\n",
    "best_model_acc1.evaluate(x_test[x_test[\"race_Hispanic\"] == 1].values, y_test_h.values)"
   ]
  },
  {
   "cell_type": "code",
   "execution_count": null,
   "metadata": {
    "scrolled": true
   },
   "outputs": [],
   "source": [
    "y_test_o = df_test_two_year_recid[df_test_two_year_recid[\"race_Other\"] == 1][LABEL]\n",
    "\n",
    "best_model_acc1.evaluate(x_test[x_test[\"race_Other\"] == 1].values, y_test_o.values)"
   ]
  },
  {
   "cell_type": "markdown",
   "metadata": {},
   "source": [
    "We have the overall accuracy at 0.7 which exceeds the .65 requirement. Accuracy varies between around .69 to .72 between 4 races which is acceptable."
   ]
  },
  {
   "cell_type": "code",
   "execution_count": null,
   "metadata": {
    "scrolled": true
   },
   "outputs": [],
   "source": [
    "his_b = best_model_acc1.evaluate(x_test[x_test[\"race_African-American\"] == 1].values, y_test_b.values)\n",
    "his_w = best_model_acc1.evaluate(x_test[x_test[\"race_Caucasian\"] == 1].values, y_test_w.values)"
   ]
  },
  {
   "cell_type": "markdown",
   "metadata": {},
   "source": [
    "We then go on the inspect the mathematical fairness between the black and white sub groups using classification parity as criteria and precision as metric."
   ]
  },
  {
   "cell_type": "code",
   "execution_count": null,
   "metadata": {
    "scrolled": true
   },
   "outputs": [],
   "source": [
    "def calculate_ppv(tp, tn, fp, fn):\n",
    "    precision = tp / (tp + fp)\n",
    "    return precision\n",
    "\n",
    "tp_b = his_b[2]\n",
    "tn_b = his_b[3]\n",
    "fp_b = his_b[4]\n",
    "fn_b = his_b[5]\n",
    "\n",
    "tp_w = his_w[2]\n",
    "tn_w = his_w[3]\n",
    "fp_w = his_w[4]\n",
    "fn_w = his_w[5]\n",
    "\n",
    "ppv_b = calculate_ppv(tp_b, tn_b, fp_b, fn_b)\n",
    "ppv_w = calculate_ppv(tp_w, tn_w, fp_w, fn_w)\n",
    "\n",
    "print(\"PPV of African American:\")\n",
    "print(ppv_b)\n",
    "\n",
    "print(\"PPV of Caucasian:\")\n",
    "print(ppv_w)\n",
    "\n",
    "print(\"PPV Difference\")\n",
    "print(abs(ppv_b - ppv_w))"
   ]
  },
  {
   "cell_type": "markdown",
   "metadata": {},
   "source": [
    "We are consistently getting the precision between .78 and .8 for both sub groups, resulting in less than .02 difference which is much better requirement at .05"
   ]
  }
 ],
 "metadata": {
  "kernelspec": {
   "display_name": "Python 3",
   "language": "python",
   "name": "python3"
  },
  "language_info": {
   "codemirror_mode": {
    "name": "ipython",
    "version": 3
   },
   "file_extension": ".py",
   "mimetype": "text/x-python",
   "name": "python",
   "nbconvert_exporter": "python",
   "pygments_lexer": "ipython3",
   "version": "3.8.6"
  }
 },
 "nbformat": 4,
 "nbformat_minor": 4
}
